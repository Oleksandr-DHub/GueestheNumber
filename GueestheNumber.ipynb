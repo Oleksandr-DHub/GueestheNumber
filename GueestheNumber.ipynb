{
 "cells": [
  {
   "cell_type": "code",
   "execution_count": 1,
   "metadata": {},
   "outputs": [
    {
     "name": "stdout",
     "output_type": "stream",
     "text": [
      "Your guess is too high.\n",
      "Invalid input. Please enter an integer.\n",
      "Your guess is too low.\n",
      "Your guess is too high.\n",
      "Your guess is too low.\n",
      "Your guess is too low.\n",
      "Invalid input. Please enter an integer.\n",
      "Your guess is too high.\n",
      "Invalid input. Please enter an integer.\n",
      "Congratulations! You guessed the number 36.\n"
     ]
    }
   ],
   "source": [
    "import random\n",
    "\n",
    "# Define the range for the random number\n",
    "min_value = 1\n",
    "max_value = 100\n",
    "hidden_number = random.randint(min_value, max_value)\n",
    "\n",
    "# Create loop to allow repeated attempts by the user\n",
    "while True:\n",
    "    try:\n",
    "        # Prompt user to make a guess\n",
    "        user_guess = input(f\"Enter a number between {min_value} and {max_value}. Type 0 to exit the game: \")\n",
    "        \n",
    "        if int(user_guess) == 0:\n",
    "            print(\"Goodbye! Thanks for playing.\")\n",
    "            break  # Exit the loop if the user enters 0\n",
    "        \n",
    "        # Check the guess against the random number\n",
    "        elif int(user_guess) > hidden_number:\n",
    "            print(\"Your guess is too high.\")\n",
    "        elif int(user_guess) < hidden_number:\n",
    "            print(\"Your guess is too low.\")\n",
    "        else:\n",
    "            print(f\"Congratulations! You guessed the number {hidden_number}.\")\n",
    "            break  # Exit the loop when the user guesses correctly\n",
    "    except ValueError:\n",
    "        print(\"Invalid input. Please enter an integer.\")\n"
   ]
  }
 ],
 "metadata": {
  "kernelspec": {
   "display_name": "myenv",
   "language": "python",
   "name": "python3"
  },
  "language_info": {
   "codemirror_mode": {
    "name": "ipython",
    "version": 3
   },
   "file_extension": ".py",
   "mimetype": "text/x-python",
   "name": "python",
   "nbconvert_exporter": "python",
   "pygments_lexer": "ipython3",
   "version": "3.12.3"
  }
 },
 "nbformat": 4,
 "nbformat_minor": 2
}
